{
 "cells": [
  {
   "cell_type": "code",
   "execution_count": 13,
   "id": "ea36c175",
   "metadata": {},
   "outputs": [],
   "source": [
    "from sqlalchemy import create_engine,Table, MetaData, Column, String, Date, Integer, Float, text\n",
    "\n",
    "metadata = MetaData()\n",
    "db_engine = create_engine(\"sqlite:///employees.db\")\n",
    "\n",
    "employees_table = Table(\n",
    "    \"employees\", metadata,\n",
    "    Column(\"id\", Integer, primary_key=True, autoincrement=True),\n",
    "    Column(\"first_name\", String(50), nullable=False),\n",
    "    Column(\"last_name\", String(50), nullable=False),\n",
    "    Column(\"email\", String(100), unique=True, nullable=False),\n",
    "    Column(\"phone_number\", String(15)),\n",
    "    Column(\"hire_date\", Date, nullable=False),\n",
    "    Column(\"job_title\", String(50), nullable=False),\n",
    "    Column(\"salary\", Float, nullable=False),\n",
    "    Column(\"department_id\", Integer)\n",
    ")\n",
    "# Drop the table if it exists\n",
    "employees_table.drop(db_engine, checkfirst=True)\n",
    "metadata.create_all(db_engine)"
   ]
  },
  {
   "cell_type": "code",
   "execution_count": 7,
   "id": "fc42cfd6",
   "metadata": {},
   "outputs": [],
   "source": [
    "from datetime import datetime\n",
    "from sqlalchemy import insert\n",
    "from random import randint\n",
    "# Dummy data\n",
    "employees = [\n",
    "    ['John', 'Doe', 'john.doe@example.com', '123-456-7890', datetime(2021, 5, 1), 'Software Engineer', 70000, 2],\n",
    "    ['Jane', 'Smith', 'jane.smith@example.com', '234-567-8901', datetime(2020, 8, 15), 'HR Manager', 80000, 1],\n",
    "    ['Jim', 'Beam', 'jim.beam@example.com', '345-678-9012', datetime(2019, 11, 3), 'Sales Representative', 50000, 3],\n",
    "    ['Jessica', 'Jones', 'jessica.jones@example.com', '456-789-0123', datetime(2018, 4, 23), 'Marketing Specialist', 60000, 4],\n",
    "    ['Michael', 'Brown', 'michael.brown@example.com', '567-890-1234', datetime(2022, 1, 9), 'DevOps Engineer', 75000, 2],\n",
    "    ['Emily', 'Davis', 'emily.davis@example.com', '678-901-2345', datetime(2021, 3, 11), 'Product Manager', 85000, 4],\n",
    "    ['Daniel', 'Wilson', 'daniel.wilson@example.com', '789-012-3456', datetime(2020, 10, 30), 'Data Scientist', 95000, 2],\n",
    "    ['Sophia', 'Taylor', 'sophia.taylor@example.com', '890-123-4567', datetime(2021, 6, 7), 'Recruiter', 55000, 1],\n",
    "    ['Lucas', 'Martinez', 'lucas.martinez@example.com', '901-234-5678', datetime(2019, 2, 18), 'Sales Manager', 70000, 3],\n",
    "    ['Olivia', 'Garcia', 'olivia.garcia@example.com', '012-345-6789', datetime(2023, 7, 20), 'Junior Developer', 50000, 2]\n",
    "]"
   ]
  },
  {
   "cell_type": "code",
   "execution_count": 19,
   "id": "be42f047",
   "metadata": {},
   "outputs": [
    {
     "name": "stdout",
     "output_type": "stream",
     "text": [
      "Data inserted Successfully\n"
     ]
    }
   ],
   "source": [
    "with db_engine.begin() as connection:\n",
    "    for emp in employees:\n",
    "        query = insert(employees_table).values(\n",
    "            id=randint(10000, 99999),\n",
    "            first_name=emp[0],\n",
    "            last_name=emp[1],\n",
    "            email=emp[2],\n",
    "            phone_number=emp[3],\n",
    "            hire_date=emp[4],\n",
    "            job_title=emp[5],\n",
    "            salary=emp[6],\n",
    "            department_id=emp[7]\n",
    "        )\n",
    "        connection.execute(query)\n",
    "print(\"Data inserted Successfully\")"
   ]
  },
  {
   "cell_type": "code",
   "execution_count": null,
   "id": "dd10ba25",
   "metadata": {},
   "outputs": [],
   "source": [
    "from getpass import getpass\n",
    "import os\n",
    "\n",
    "os.environ['HUGGINGFACEHUB_API_TOKEN'] = getpass(\"Input hugging face API Token\")\n",
    "os.environ['COHERE_API_KEY'] = getpass(\"Input Cohere API Token\")"
   ]
  },
  {
   "cell_type": "code",
   "execution_count": 14,
   "id": "c1cb0bf2",
   "metadata": {},
   "outputs": [],
   "source": [
    "from langchain_experimental.sql import SQLDatabaseChain\n",
    "from langgraph.graph import MessagesState\n",
    "from langchain_community.utilities import SQLDatabase\n",
    "from langchain_community.llms.cohere import Cohere\n",
    "from langchain_ollama import ChatOllama\n",
    "\n",
    "# Forcefully made return_sql=True, return_direct=True to get the generated SQL\n",
    "# else, it will create and execute query internally which is sometime error prone\n",
    "def generate_query(state: MessagesState):\n",
    "    llm_ollama = ChatOllama(model = \"granite3.1-dense:2b\", max_tokens=100, temperature=0)\n",
    "    sql_chain = SQLDatabaseChain.from_llm(llm_ollama, db=SQLDatabase(db_engine),  return_sql=True, return_direct=True)\n",
    "    messages = state['messages']\n",
    "    response = sql_chain.invoke(messages)\n",
    "    return {\"messages\": [response['result']]}\n",
    "\n",
    "# Query cleanup can be done using another LLM with a proper prompt but, \n",
    "# in this case I am doing simple string manupulation as the model's output is \n",
    "# almost correct\n",
    "def clean_query(state: MessagesState):\n",
    "    messages = state['messages'][-1]\n",
    "    corrected_query = messages.content.replace(\"`\",\"\").replace(\"sql\",\"\")\n",
    "    return {\"messages\": [corrected_query]}\n",
    "\n",
    "# Execute the generated query and extract or formmat output as per requirement\n",
    "def execute_query(state: MessagesState):\n",
    "    messages = state['messages'][-1]\n",
    "    sql = messages.content\n",
    "    with db_engine.begin() as connection:\n",
    "        answer = connection.execute(text(sql)).fetchall()\n",
    "    return {\"messages\": [str(answer)]}"
   ]
  },
  {
   "cell_type": "code",
   "execution_count": 15,
   "id": "766e1868",
   "metadata": {},
   "outputs": [],
   "source": [
    "from langgraph.graph import END, StateGraph, START\n",
    "\n",
    "workflow = StateGraph(MessagesState)\n",
    "\n",
    "workflow.add_node(\"Query_Generator\", generate_query)\n",
    "workflow.add_node(\"Query_Cleaner\", clean_query)\n",
    "workflow.add_node(\"Query_Executor\", execute_query)\n",
    "\n",
    "workflow.add_edge(START, \"Query_Generator\")\n",
    "workflow.add_edge(\"Query_Generator\", \"Query_Cleaner\")\n",
    "workflow.add_edge(\"Query_Cleaner\", \"Query_Executor\")\n",
    "workflow.add_edge(\"Query_Executor\", END)\n",
    "\n",
    "graph = workflow.compile()"
   ]
  },
  {
   "cell_type": "code",
   "execution_count": 16,
   "id": "7d374396",
   "metadata": {},
   "outputs": [
    {
     "data": {
      "image/png": "[encoded data removed]",
      "text/plain": [
       "<langgraph.graph.state.CompiledStateGraph object at 0x000002685FA7D2E0>"
      ]
     },
     "execution_count": 16,
     "metadata": {},
     "output_type": "execute_result"
    }
   ],
   "source": [
    "graph"
   ]
  },
  {
   "cell_type": "code",
   "execution_count": 21,
   "id": "091befb5",
   "metadata": {},
   "outputs": [
    {
     "name": "stdout",
     "output_type": "stream",
     "text": [
      "Output from node 'Query_Generator':\n",
      "---\n",
      "{'messages': ['SELECT MAX(salary) FROM employees;']}\n",
      "\n",
      "---\n",
      "\n",
      "Output from node 'Query_Cleaner':\n",
      "---\n",
      "{'messages': ['SELECT MAX(salary) FROM employees;']}\n",
      "\n",
      "---\n",
      "\n",
      "Output from node 'Query_Executor':\n",
      "---\n",
      "{'messages': ['[(95000.0,)]']}\n",
      "\n",
      "---\n",
      "\n"
     ]
    }
   ],
   "source": [
    "inputs =  {\n",
    "             \"messages\": [\n",
    "                 {\"role\": \"human\", \"content\": \"What is the highest salary of all employees? Answer should be in single word or number\"}\n",
    "             ]\n",
    "         }\n",
    "for output in graph.stream(inputs):\n",
    "    # stream() yields dictionaries with output keyed by node name\n",
    "    for key, value in output.items():\n",
    "        print(f\"Output from node '{key}':\")\n",
    "        print(\"---\")\n",
    "        print(value)\n",
    "    print(\"\\n---\\n\")"
   ]
  },
  {
   "cell_type": "code",
   "execution_count": 20,
   "id": "9b0b5206",
   "metadata": {},
   "outputs": [
    {
     "name": "stdout",
     "output_type": "stream",
     "text": [
      "(20435, 'Olivia', 'Garcia', 'olivia.garcia@example.com', '012-345-6789', '2023-07-20', 'Junior Developer', 50000.0, 2)\n",
      "(30004, 'Lucas', 'Martinez', 'lucas.martinez@example.com', '901-234-5678', '2019-02-18', 'Sales Manager', 70000.0, 3)\n",
      "(37004, 'Sophia', 'Taylor', 'sophia.taylor@example.com', '890-123-4567', '2021-06-07', 'Recruiter', 55000.0, 1)\n",
      "(40055, 'John', 'Doe', 'john.doe@example.com', '123-456-7890', '2021-05-01', 'Software Engineer', 70000.0, 2)\n",
      "(42153, 'Jane', 'Smith', 'jane.smith@example.com', '234-567-8901', '2020-08-15', 'HR Manager', 80000.0, 1)\n",
      "(62600, 'Daniel', 'Wilson', 'daniel.wilson@example.com', '789-012-3456', '2020-10-30', 'Data Scientist', 95000.0, 2)\n",
      "(65424, 'Emily', 'Davis', 'emily.davis@example.com', '678-901-2345', '2021-03-11', 'Product Manager', 85000.0, 4)\n",
      "(73373, 'Jim', 'Beam', 'jim.beam@example.com', '345-678-9012', '2019-11-03', 'Sales Representative', 50000.0, 3)\n",
      "(78484, 'Jessica', 'Jones', 'jessica.jones@example.com', '456-789-0123', '2018-04-23', 'Marketing Specialist', 60000.0, 4)\n",
      "(89693, 'Michael', 'Brown', 'michael.brown@example.com', '567-890-1234', '2022-01-09', 'DevOps Engineer', 75000.0, 2)\n"
     ]
    }
   ],
   "source": [
    "from sqlalchemy import text\n",
    "\n",
    "with db_engine.begin() as connection:\n",
    "    # Print a few rows\n",
    "    rows = connection.execute(\n",
    "        text(\"SELECT * FROM employees LIMIT 10;\")\n",
    "    ).fetchall()\n",
    "    for row in rows:\n",
    "        print(row)\n"
   ]
  },
  {
   "cell_type": "code",
   "execution_count": null,
   "id": "06188913",
   "metadata": {},
   "outputs": [],
   "source": []
  }
 ],
 "metadata": {
  "kernelspec": {
   "display_name": "hello",
   "language": "python",
   "name": "python3"
  },
  "language_info": {
   "codemirror_mode": {
    "name": "ipython",
    "version": 3
   },
   "file_extension": ".py",
   "mimetype": "text/x-python",
   "name": "python",
   "nbconvert_exporter": "python",
   "pygments_lexer": "ipython3",
   "version": "3.12.0"
  }
 },
 "nbformat": 4,
 "nbformat_minor": 5
}
